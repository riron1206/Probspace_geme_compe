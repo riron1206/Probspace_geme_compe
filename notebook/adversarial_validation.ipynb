{
 "cells": [
  {
   "cell_type": "code",
   "execution_count": 1,
   "metadata": {
    "ExecuteTime": {
     "end_time": "2020-08-27T10:48:32.524387Z",
     "start_time": "2020-08-27T10:48:32.227210Z"
    }
   },
   "outputs": [
    {
     "name": "stdout",
     "output_type": "stream",
     "text": [
      "/c/Users/81908/jupyter_notebook/tf_2_work/Probspace_geme_compe/notebook\n"
     ]
    },
    {
     "data": {
      "text/plain": [
       "'C:\\\\Users\\\\81908\\\\Anaconda3\\\\envs\\\\tfgpu\\\\python.exe'"
      ]
     },
     "execution_count": 1,
     "metadata": {},
     "output_type": "execute_result"
    }
   ],
   "source": [
    "!pwd\n",
    "import sys\n",
    "%reload_ext autoreload\n",
    "%autoreload 2\n",
    "%matplotlib inline\n",
    "sys.executable"
   ]
  },
  {
   "cell_type": "markdown",
   "metadata": {},
   "source": [
    "# auc=0.502なので学習データとテストデータの分布が同じ"
   ]
  },
  {
   "cell_type": "code",
   "execution_count": 3,
   "metadata": {
    "ExecuteTime": {
     "end_time": "2020-08-27T10:49:36.091792Z",
     "start_time": "2020-08-27T10:49:35.173248Z"
    },
    "code_folding": [
     8
    ]
   },
   "outputs": [
    {
     "name": "stdout",
     "output_type": "stream",
     "text": [
      "Training until validation scores don't improve for 50 rounds\n",
      "Early stopping, best iteration is:\n",
      "[4]\ttraining's binary_logloss: 0.561512\tvalid_1's binary_logloss: 0.560077\n",
      "AUC: 0.502\n"
     ]
    }
   ],
   "source": [
    "import lightgbm as lgb\n",
    "import numpy as np\n",
    "import pandas as pd\n",
    "import seaborn as sns\n",
    "from sklearn.model_selection import train_test_split\n",
    "from sklearn.metrics import roc_auc_score\n",
    "\n",
    "\n",
    "def adversarial_validation(X_train, X_test):\n",
    "    \"\"\"\n",
    "    adversarial_validation:学習データとテストデータの分布が同じか判断する手法\n",
    "    学習データとテストデータを結合してテストデータか否かを目的変数とする二値分類\n",
    "    同じ分布なら見分けられないのでauc=0.5に近くなる。こうなるのが理想\n",
    "    0.5上回るなら違う分布\n",
    "    \"\"\"\n",
    "    # 学習データのラベル=1, テストデータのラベル=0とする\n",
    "    y_train = np.array([1 for i in range(X_train.shape[0])])\n",
    "    y_test = np.array([0 for i in range(X_test.shape[0])])\n",
    "\n",
    "    # 学習データとテストデータ結合\n",
    "    y = np.concatenate([y_train, y_test])\n",
    "    X = pd.concat([X_train, X_test])\n",
    "\n",
    "    # ラベル付け替えたデータでtrain/testに分ける\n",
    "    X_train, X_test, y_train, y_test = train_test_split(X, y, random_state=42)\n",
    "\n",
    "    # lightGBM 用のデータに変形\n",
    "    lgb_train = lgb.Dataset(X_train, y_train)\n",
    "    lgb_val = lgb.Dataset(X_test, y_test)\n",
    "\n",
    "    # 二値分類モデル作成\n",
    "    params = {\n",
    "        \"boosting_type\": \"gbdt\",\n",
    "        \"objective\": \"binary\",\n",
    "        \"metric\": \"binary_logloss\",\n",
    "        \"n_jobs\": -1,\n",
    "        \"seed\": 236,\n",
    "    }\n",
    "    model_lgb = lgb.train(\n",
    "        params,\n",
    "        lgb_train,\n",
    "        num_boost_round=500,\n",
    "        early_stopping_rounds=50,\n",
    "        valid_sets=[lgb_train, lgb_val],\n",
    "        verbose_eval=-1,\n",
    "    )\n",
    "\n",
    "    # AUC計算\n",
    "    pred = model_lgb.predict(X_test)\n",
    "    score = roc_auc_score(y_test, pred)\n",
    "    print(f\"AUC: {round(score, 3)}\")\n",
    "\n",
    "    \n",
    "if __name__ == \"__main__\":   \n",
    "    DATA_DIR = r\"C:\\Users\\81908\\jupyter_notebook\\tf_2_work\\Probspace_geme_compe\\data\\feature_eng\"\n",
    "    df = pd.read_csv(f\"{DATA_DIR}/preprocess.csv\", index_col=0)\n",
    "    \n",
    "    for col in df.select_dtypes(include=[\"object\", \"category\", \"bool\"]).columns.to_list():\n",
    "        df[col], uni = pd.factorize(df[col])\n",
    "\n",
    "    y_col = \"y\"\n",
    "    drop_cols = [y_col]  # 取り除きたいカラムのリスト\n",
    "    cols = [c for c in df.columns if c not in drop_cols]\n",
    "    df_x = df[cols]\n",
    "    X_train, X_test, y_train, y_test = train_test_split(\n",
    "        df_x, df[y_col], random_state=42\n",
    "    )\n",
    "    \n",
    "    adversarial_validation(X_train, X_test)"
   ]
  }
 ],
 "metadata": {
  "hide_input": false,
  "jupytext": {
   "text_representation": {
    "extension": ".py",
    "format_name": "light",
    "format_version": "1.5",
    "jupytext_version": "1.5.2"
   }
  },
  "kernelspec": {
   "display_name": "Python 3",
   "language": "python",
   "name": "python3"
  },
  "language_info": {
   "codemirror_mode": {
    "name": "ipython",
    "version": 3
   },
   "file_extension": ".py",
   "mimetype": "text/x-python",
   "name": "python",
   "nbconvert_exporter": "python",
   "pygments_lexer": "ipython3",
   "version": "3.7.5"
  }
 },
 "nbformat": 4,
 "nbformat_minor": 2
}
